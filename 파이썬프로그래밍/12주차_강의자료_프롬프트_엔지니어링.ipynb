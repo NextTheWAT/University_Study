{
 "cells": [
  {
   "cell_type": "code",
   "execution_count": 2,
   "id": "cf0a6fd4",
   "metadata": {},
   "outputs": [
    {
     "name": "stdout",
     "output_type": "stream",
     "text": [
      "프롬프트 갯수?3\n",
      "프롬프트 내용?인공지능의 기술적 문제 대표적인 1개만 알려줘. 그리고 왜 대표적인 문제로 선정했는지 이야기해줘.\n",
      "프롬프트 내용?교수님은 내 지도교수님으로 대학원 때 많은 신세를 졌고 최근에 정교수가 되셨는데 오랫동안 뵙지 못했어. 메일로 교수님에게 안부 인사를 써줘.\n",
      "프롬프트 내용?이번에 해외로 놀러 가는데 바다가  보이고 시내와는 거리가 먼 한적한 호텔을 예약하고 싶어. 이러한 호텔을 예약하려면 어떻게 할 수 있지?\n",
      "인공지능의 기술적 문제 대표적인 1개만 알려줘. 그리고 왜 대표적인 문제로 선정했는지 이야기해줘.##교수님은 내 지도교수님으로 대학원 때 많은 신세를 졌고 최근에 정교수가 되셨는데 오랫동안 뵙지 못했어. 메일로 교수님에게 안부 인사를 써줘.##이번에 해외로 놀러 가는데 바다가  보이고 시내와는 거리가 먼 한적한 호텔을 예약하고 싶어. 이러한 호텔을 예약하려면 어떻게 할 수 있지?\n"
     ]
    }
   ],
   "source": [
    "n = int(input('프롬프트 갯수? '))\n",
    "\n",
    "promptList=[]\n",
    "for _ in range(n):\n",
    "    prompt=input('프롬프트 내용?')\n",
    "    promptList.append(prompt)\n",
    "\n",
    "\n",
    "print('##'.join(promptList))"
   ]
  },
  {
   "cell_type": "code",
   "execution_count": 13,
   "id": "55abee2e",
   "metadata": {},
   "outputs": [
    {
     "name": "stdout",
     "output_type": "stream",
     "text": [
      "질문 갯수? 2\n",
      "질문할 대상? 뉴튼\n",
      "뉴튼에게 질문할 내용? 만유인력\n",
      "질문할 대상? 아인슈타인\n",
      "아인슈타인에게 질문할 내용? 상대성 이론\n",
      "\n",
      "\n",
      "\"itemlst = ['뉴튼', '아인슈타인']\n",
      "qlst = ['만유인력', '상대성 이론']\n",
      "[ 당신은 <item>이야. <question>에 대해 설명해줘. for (item, question) in zip(<itemlist>, <qlst>)]\"\n"
     ]
    }
   ],
   "source": [
    "n = int(input('질문 갯수? ')) \n",
    "\n",
    "itemList=[]\n",
    "qList=[]\n",
    "\n",
    "for _ in range(n):\n",
    "    item = input('질문할 대상? ')\n",
    "    itemList.append(item)\n",
    "    q = input(f'{item}에게 질문할 내용? ')\n",
    "    qList.append(q)\n",
    "\n",
    "print('\\n')\n",
    "print(\n",
    "    \"\\\"\"+\\\n",
    "    f\"itemList = {itemList}\\n\"+\\\n",
    "    f\"qList = {qList}\\n\"+\\\n",
    "    \"[ 당신은 <item>이야. <question>에 대해 설명해줘. for (item, question) in zip(<itemList>, <qList>)]\"+\"\\\"\"\n",
    "    )"
   ]
  },
  {
   "cell_type": "code",
   "execution_count": 15,
   "id": "6922f848",
   "metadata": {},
   "outputs": [
    {
     "name": "stdout",
     "output_type": "stream",
     "text": [
      "아이템 갯수? 3\n",
      "질문할 대상? 강아지\n",
      "질문할 대상? 인공지능\n",
      "질문할 대상? 머신러닝\n",
      "\n",
      "\n",
      "\"itemlst=['강아지', '인공지능', '머신러닝']\n",
      "\n",
      "      ['<item>이 뭐야?'##\n",
      "       '<item>은 뭐라고 할 수 있어?'##\n",
      "       '<item>에 대해 누군가에게 설명한다면 뭐라고 할 거야?' for item in <itemlist>]\"\n"
     ]
    }
   ],
   "source": [
    "n = int(input('아이템 갯수? ')) \n",
    "itemList=[]\n",
    "\n",
    "for _ in range(n):\n",
    "    item = input('질문할 대상? ')\n",
    "    itemList.append(item)\n",
    "    \n",
    "print('\\n')\n",
    "print(\"\\\"\"+\\\n",
    "      f\"itemList={itemList}\\n\"+\\\n",
    "      '''\n",
    "      ['<item>이 뭐야?'##\n",
    "       '<item>은 뭐라고 할 수 있어?'##\n",
    "       '<item>에 대해 누군가에게 설명한다면 뭐라고 할 거야?' for item in <itemList>]'''+\"\\\"\"   \n",
    "      )"
   ]
  },
  {
   "cell_type": "code",
   "execution_count": 17,
   "id": "fc3c658c",
   "metadata": {},
   "outputs": [
    {
     "name": "stdout",
     "output_type": "stream",
     "text": [
      "item 갯수? 3\n",
      "audience 갯수? 3\n",
      "관심 item? ChatGPT\n",
      "관심 item? Bard\n",
      "관심 item? DALLE-2\n",
      "대상 audience? 초등학교 3학년\n",
      "대상 audience? IT 기업 회사원\n",
      "대상 audience? 가정 주부\n",
      "\n",
      "\n",
      "\"itemList=['ChatGPT', 'Bard', 'DALLE-2']\n",
      "audienceList=['초등학교 3학년', 'IT 기업 회사원', '가정 주부']\n",
      "\n",
      "      [너는 인공지능 <item>을 <audience>에게 소개해주는 강사야.\n",
      "      뭐라고 소개해 줄래? for item in <itemList> for audience in <audienceList>]\"\n"
     ]
    }
   ],
   "source": [
    "m=int(input('item 갯수? '))\n",
    "n=int(input('audience 갯수? '))\n",
    "\n",
    "itemList=[]\n",
    "audienceList=[]\n",
    "\n",
    "for _ in range(m):\n",
    "    item = input('관심 item? ')\n",
    "    itemList.append(item)\n",
    "    \n",
    "for _ in range(n):\n",
    "    audience = input('대상 audience? ')\n",
    "    audienceList.append(audience)\n",
    "    \n",
    "print('\\n')\n",
    "print(\"\\\"\"+\\\n",
    "      f\"itemList={itemList}\\n\"+\\\n",
    "      f\"audienceList={audienceList}\\n\"+\\\n",
    "      '''\n",
    "      [너는 인공지능 <item>을 <audience>에게 소개해주는 강사야.\n",
    "      뭐라고 소개해 줄래? for item in <itemList> for audience in <audienceList>]'''+\"\\\"\"   \n",
    "      )\n",
    "    "
   ]
  },
  {
   "cell_type": "code",
   "execution_count": null,
   "id": "2762ff11",
   "metadata": {},
   "outputs": [],
   "source": []
  }
 ],
 "metadata": {
  "kernelspec": {
   "display_name": "Python 3 (ipykernel)",
   "language": "python",
   "name": "python3"
  },
  "language_info": {
   "codemirror_mode": {
    "name": "ipython",
    "version": 3
   },
   "file_extension": ".py",
   "mimetype": "text/x-python",
   "name": "python",
   "nbconvert_exporter": "python",
   "pygments_lexer": "ipython3",
   "version": "3.11.3"
  }
 },
 "nbformat": 4,
 "nbformat_minor": 5
}
